{
 "cells": [
  {
   "cell_type": "code",
   "execution_count": 12,
   "metadata": {},
   "outputs": [
    {
     "name": "stdout",
     "output_type": "stream",
     "text": [
      "b'\\xff\\xfe'\n"
     ]
    }
   ],
   "source": [
    "a = 255\n",
    "b = 254\n",
    "print(a.to_bytes(1, byteorder='big', signed=False)+ b.to_bytes(1, byteorder='big', signed=False))"
   ]
  },
  {
   "cell_type": "code",
   "execution_count": 39,
   "metadata": {},
   "outputs": [
    {
     "name": "stdout",
     "output_type": "stream",
     "text": [
      "1\n"
     ]
    }
   ],
   "source": [
    "if 1==1:\n",
    "    print(1)"
   ]
  },
  {
   "cell_type": "code",
   "execution_count": 36,
   "metadata": {},
   "outputs": [],
   "source": [
    "dtype = 'int64'\n",
    "import sys"
   ]
  },
  {
   "cell_type": "code",
   "execution_count": 41,
   "metadata": {},
   "outputs": [
    {
     "name": "stdout",
     "output_type": "stream",
     "text": [
      "(80, 80, 3)\n"
     ]
    }
   ],
   "source": [
    "dshape = (80,80,3)\n",
    "print(dshape)"
   ]
  },
  {
   "cell_type": "code",
   "execution_count": 45,
   "metadata": {},
   "outputs": [
    {
     "name": "stdout",
     "output_type": "stream",
     "text": [
      "9830433\n",
      "int64\n"
     ]
    }
   ],
   "source": [
    "res = np.random.randint(10,240, size=(640, 640,3))\n",
    "byteRes = res.tobytes()\n",
    "print(sys.getsizeof(byteRes))\n",
    "# dtype = res.dtype.name\n",
    "dshape = res.shape\n",
    "print(dtype)\n",
    "# print(res)"
   ]
  },
  {
   "cell_type": "code",
   "execution_count": 43,
   "metadata": {},
   "outputs": [
    {
     "name": "stdout",
     "output_type": "stream",
     "text": [
      "[[[ 95 234 143]\n",
      "  [139 137  83]\n",
      "  [ 42  44 166]\n",
      "  ...\n",
      "  [177 106  75]\n",
      "  [193  83 226]\n",
      "  [205  89 223]]\n",
      "\n",
      " [[121  95 149]\n",
      "  [ 27 114 145]\n",
      "  [125  37 192]\n",
      "  ...\n",
      "  [199  53 152]\n",
      "  [231  65 217]\n",
      "  [177  84 184]]\n",
      "\n",
      " [[138  50  44]\n",
      "  [231 152  24]\n",
      "  [222 177 121]\n",
      "  ...\n",
      "  [121 233 231]\n",
      "  [118  42 197]\n",
      "  [223 200 211]]\n",
      "\n",
      " ...\n",
      "\n",
      " [[ 63 164 225]\n",
      "  [166  45  26]\n",
      "  [ 21  98 234]\n",
      "  ...\n",
      "  [ 87  39 197]\n",
      "  [ 11 182  56]\n",
      "  [ 76 122 148]]\n",
      "\n",
      " [[172  14 148]\n",
      "  [217  82  96]\n",
      "  [206  62  34]\n",
      "  ...\n",
      "  [113 208  42]\n",
      "  [201  41  73]\n",
      "  [236 135 235]]\n",
      "\n",
      " [[208  39 226]\n",
      "  [ 35 181 188]\n",
      "  [ 66  24 186]\n",
      "  ...\n",
      "  [199 104  74]\n",
      "  [ 84  76  39]\n",
      "  [ 54 211 174]]]\n"
     ]
    }
   ],
   "source": [
    "print(recons)"
   ]
  },
  {
   "cell_type": "code",
   "execution_count": 42,
   "metadata": {},
   "outputs": [],
   "source": [
    "recons = np.frombuffer(byteRes,dtype=dtype).reshape(dshape)"
   ]
  },
  {
   "cell_type": "code",
   "execution_count": 29,
   "metadata": {},
   "outputs": [
    {
     "name": "stdout",
     "output_type": "stream",
     "text": [
      "[10  4  0]\n",
      "[10  4  0]\n",
      "[10  4  0]\n",
      "[10  4  0]\n",
      "[10  4  0]\n",
      "[10  4  0]\n",
      "[10  4  0]\n",
      "[10  4  0]\n",
      "[10  4  0]\n",
      "[10  4  0]\n",
      "[10  4  0]\n",
      "[10  4  0]\n",
      "[10  4  0]\n",
      "[10  4  0]\n",
      "[10  4  0]\n",
      "[10  4  0]\n",
      "[10  4  0]\n",
      "[10  4  0]\n",
      "[10  4  0]\n",
      "[10  4  0]\n",
      "[10  4  0]\n",
      "[10  4  0]\n",
      "[10  4  0]\n",
      "[10  4  0]\n",
      "[10  4  0]\n",
      "[10  4  0]\n",
      "[10  4  0]\n",
      "[10  4  0]\n",
      "[10  4  0]\n",
      "[10  4  0]\n",
      "[10  4  0]\n",
      "[10  4  0]\n",
      "[10  4  0]\n",
      "[10  4  0]\n",
      "[10  4  0]\n",
      "[10  4  0]\n",
      "[10  4  0]\n",
      "[10  4  0]\n",
      "[10  4  0]\n",
      "[10  4  0]\n",
      "[10  4  0]\n",
      "[10  4  0]\n",
      "[10  4  0]\n",
      "[10  4  0]\n",
      "[10  4  0]\n",
      "[10  4  0]\n",
      "[10  4  0]\n",
      "[10  4  0]\n",
      "[10  4  0]\n",
      "[10  4  0]\n",
      "[10  4  0]\n",
      "[10  4  0]\n",
      "[10  4  0]\n",
      "[10  4  0]\n",
      "[10  4  0]\n",
      "[10  4  0]\n",
      "[10  4  0]\n",
      "[10  4  0]\n",
      "[10  4  0]\n",
      "[10  4  0]\n",
      "[10  4  0]\n",
      "[10  4  0]\n",
      "[10  4  0]\n",
      "[10  4  0]\n",
      "[10  4  0]\n",
      "[10  4  0]\n",
      "[10  4  0]\n",
      "[10  4  0]\n",
      "[10  4  0]\n",
      "[10  4  0]\n",
      "[10  4  0]\n",
      "[10  4  0]\n",
      "[10  4  0]\n",
      "[10  4  0]\n",
      "[10  4  0]\n",
      "[10  4  0]\n",
      "[10  4  0]\n",
      "[10  4  0]\n",
      "[10  4  0]\n",
      "[10  4  0]\n"
     ]
    }
   ],
   "source": [
    "import numpy as np\n",
    "res = np.random.randint(0,11, size=(80, 80,3))\n",
    "for i in (j for j in (k for k in res)):\n",
    "    print(j)"
   ]
  },
  {
   "cell_type": "code",
   "execution_count": null,
   "metadata": {},
   "outputs": [],
   "source": []
  }
 ],
 "metadata": {
  "kernelspec": {
   "display_name": "Python 3",
   "language": "python",
   "name": "python3"
  },
  "language_info": {
   "codemirror_mode": {
    "name": "ipython",
    "version": 3
   },
   "file_extension": ".py",
   "mimetype": "text/x-python",
   "name": "python",
   "nbconvert_exporter": "python",
   "pygments_lexer": "ipython3",
   "version": "3.6.5"
  }
 },
 "nbformat": 4,
 "nbformat_minor": 2
}
